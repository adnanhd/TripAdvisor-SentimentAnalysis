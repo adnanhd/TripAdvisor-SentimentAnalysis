{
 "cells": [
  {
   "cell_type": "code",
   "execution_count": 7,
   "id": "a2f63932",
   "metadata": {},
   "outputs": [],
   "source": [
    "import csv\n",
    "import sys\n",
    "import os\n",
    "module_path = os.path.abspath(os.path.join('..'))\n",
    "if module_path not in sys.path:\n",
    "    sys.path.append(module_path)\n",
    "    \n",
    "import naive_bayes_test as nb"
   ]
  },
  {
   "cell_type": "code",
   "execution_count": 8,
   "id": "2b669ef3",
   "metadata": {},
   "outputs": [],
   "source": [
    "with open(\"/mnt/nvme0n1p4/Users/Taner/PycharmProjects/Research/Data/Mined_Data/tweets_from_2021-08-01_to_2021-08-06.txt\", \n",
    "          'r') as in_file:\n",
    "    stripped = (line.strip() for line in in_file)\n",
    "    lines = (line.split(\"\\t\") for line in stripped if line)\n",
    "    with open('/mnt/nvme0n1p4/Users/Taner/PycharmProjects/Research/Data/Mined_Data/test.csv',\n",
    "              'w') as out_file:\n",
    "        writer = csv.writer(out_file, delimiter=\"\\t\")\n",
    "        writer.writerow(('tweet', \"label\"))\n",
    "        writer.writerows(lines)      "
   ]
  },
  {
   "cell_type": "code",
   "execution_count": null,
   "id": "5e203b1b",
   "metadata": {},
   "outputs": [],
   "source": []
  }
 ],
 "metadata": {
  "kernelspec": {
   "display_name": "Python 3 (ipykernel)",
   "language": "python",
   "name": "python3"
  },
  "language_info": {
   "codemirror_mode": {
    "name": "ipython",
    "version": 3
   },
   "file_extension": ".py",
   "mimetype": "text/x-python",
   "name": "python",
   "nbconvert_exporter": "python",
   "pygments_lexer": "ipython3",
   "version": "3.9.5"
  }
 },
 "nbformat": 4,
 "nbformat_minor": 5
}
